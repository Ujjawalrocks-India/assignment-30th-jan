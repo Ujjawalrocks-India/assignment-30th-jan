{
 "cells": [
  {
   "cell_type": "code",
   "execution_count": null,
   "id": "f178beb0-7f89-4b90-8879-1e36d4b2c8e8",
   "metadata": {},
   "outputs": [],
   "source": [
    "def display_grade(percentage):\n",
    "    if percentage >90:\n",
    "        return 'A'\n",
    "    elif percentage >80 and percentage <=90:\n",
    "        return 'B'\n",
    "    elif percenatge >=60 and percentage <=80:\n",
    "        return 'C'\n",
    "    else:\n",
    "        return 'D'\n",
    "    \n",
    "a=int(input(\"Enter your percentage:\"))\n",
    "b=display_grade(a)\n",
    "print(\"Your Grade:\",b)"
   ]
  },
  {
   "cell_type": "markdown",
   "id": "98863289-7db7-4b7e-ad8d-cfd5d431a815",
   "metadata": {},
   "source": [
    "### Q2"
   ]
  },
  {
   "cell_type": "code",
   "execution_count": 1,
   "id": "d00b98dc-7db5-4cef-88cc-fc17667075a7",
   "metadata": {},
   "outputs": [
    {
     "name": "stdin",
     "output_type": "stream",
     "text": [
      "Enter the cost price of bike: 70000\n"
     ]
    },
    {
     "name": "stdout",
     "output_type": "stream",
     "text": [
      "Your Tax: 10%\n"
     ]
    }
   ],
   "source": [
    "def road_tax(cp):\n",
    "    if cp>100000:\n",
    "        return '15%'\n",
    "    elif cp>50000 and cp<=100000:\n",
    "        return '10%'\n",
    "    else :\n",
    "        return '5%'\n",
    "    \n",
    "a=int(input(\"Enter the cost price of bike:\"))\n",
    "b=road_tax(a)\n",
    "print(\"Your Tax:\",b)"
   ]
  },
  {
   "cell_type": "markdown",
   "id": "ae2465d7-d3db-499e-9e9e-b0f0e7ac9658",
   "metadata": {},
   "source": [
    "### Q3"
   ]
  },
  {
   "cell_type": "code",
   "execution_count": 3,
   "id": "3db1692e-88cd-45bd-a237-37b8bdcecdac",
   "metadata": {},
   "outputs": [
    {
     "name": "stdin",
     "output_type": "stream",
     "text": [
      "Enter the city name: Agra\n"
     ]
    },
    {
     "name": "stdout",
     "output_type": "stream",
     "text": [
      "Monument: Taj Mahal\n"
     ]
    }
   ],
   "source": [
    "def display_mon(city):\n",
    "    if city=='Delhi':\n",
    "        return 'Red Fort'\n",
    "    elif city=='Agra':\n",
    "        return 'Taj Mahal'\n",
    "    elif city=='Jaipur':\n",
    "        return 'Jal Mahal'\n",
    "    else:\n",
    "        return ' '\n",
    "    \n",
    "a=input(\"Enter the city name:\")\n",
    "b=display_mon(a)\n",
    "print(\"Monument:\",b)"
   ]
  },
  {
   "cell_type": "markdown",
   "id": "7965f646-c549-4f49-88f3-756af0ab845e",
   "metadata": {},
   "source": [
    "### Q4"
   ]
  },
  {
   "cell_type": "code",
   "execution_count": 1,
   "id": "58827a73-6dc7-4f11-8045-59765fd5709a",
   "metadata": {},
   "outputs": [
    {
     "name": "stdout",
     "output_type": "stream",
     "text": [
      "2\n"
     ]
    }
   ],
   "source": [
    "def count_divisions(n):\n",
    "    count=0\n",
    "    while n > 10:\n",
    "        n = n / 3\n",
    "        count +=1\n",
    "    return count\n",
    "print(count_divisions(45))"
   ]
  },
  {
   "cell_type": "markdown",
   "id": "dcd67c6d-122a-4f5a-9592-cc3f2787e502",
   "metadata": {},
   "source": [
    "### Q5"
   ]
  },
  {
   "cell_type": "code",
   "execution_count": 2,
   "id": "737874f8-c555-405a-971a-11c19f827204",
   "metadata": {},
   "outputs": [
    {
     "data": {
      "text/plain": [
       "'1. A while loop evaluates the condition\\n   2. If the condition evaluates to True, the code inside the while loop\\n      is executed.\\n   3. condition is evaluated again.\\n   4. This process continues until the condition is False.\\n   5. When condition evaluates to False, the loop stops.'"
      ]
     },
     "execution_count": 2,
     "metadata": {},
     "output_type": "execute_result"
    }
   ],
   "source": [
    "# why and when while loopis used:\n",
    "'''Python while loop is used to run a block code until a \n",
    "certain condition is met'''\n",
    "\n",
    "'''1. A while loop evaluates the condition\n",
    "   2. If the condition evaluates to True, the code inside the while loop\n",
    "      is executed.\n",
    "   3. condition is evaluated again.\n",
    "   4. This process continues until the condition is False.\n",
    "   5. When condition evaluates to False, the loop stops.'''"
   ]
  },
  {
   "cell_type": "code",
   "execution_count": 3,
   "id": "1cb1b0d7-7345-4105-9a24-3320bd1393e5",
   "metadata": {},
   "outputs": [
    {
     "name": "stdout",
     "output_type": "stream",
     "text": [
      "1\n",
      "2\n",
      "3\n",
      "4\n",
      "5\n",
      "6\n",
      "7\n",
      "8\n",
      "9\n"
     ]
    }
   ],
   "source": [
    "# code for while loop:\n",
    "i=1\n",
    "n=10\n",
    "while i<n:\n",
    "    print(i)\n",
    "    i=i+1"
   ]
  },
  {
   "cell_type": "markdown",
   "id": "922651b5-6afe-4e86-8525-fa29e22c9c63",
   "metadata": {},
   "source": [
    "### Q6"
   ]
  },
  {
   "cell_type": "code",
   "execution_count": 1,
   "id": "629d44e8-f700-41f3-84b5-53588658f35f",
   "metadata": {},
   "outputs": [
    {
     "name": "stdin",
     "output_type": "stream",
     "text": [
      "Enter number of rows :  3\n"
     ]
    },
    {
     "name": "stdout",
     "output_type": "stream",
     "text": [
      "* \n",
      "* * \n",
      "* * * \n",
      "\n",
      "\n",
      "* * * \n",
      "* * \n",
      "* \n",
      "\n",
      "\n",
      "        * \n",
      "      * * \n",
      "    * * * \n",
      "  * * * * \n",
      "* * * * * \n",
      "  * * * * \n",
      "    * * * \n",
      "      * * \n",
      "        * \n",
      "          \n"
     ]
    }
   ],
   "source": [
    "# pattern 1 \n",
    "n = int(input('Enter number of rows : '))\n",
    "\n",
    "i = 1\n",
    "while i <= n :\n",
    "    j = 1\n",
    "    while j <= i:\n",
    "        print(\"*\", end = \" \")\n",
    "        j += 1\n",
    "    print()\n",
    "    i += 1\n",
    "    \n",
    "print()\n",
    "print()\n",
    "    \n",
    "# pattern 2 \n",
    "i = 1\n",
    "while i <= n :\n",
    "    j = n\n",
    "    while j >= i:\n",
    "        print(\"*\", end = \" \")\n",
    "        j -= 1\n",
    "    print()\n",
    "    i += 1\n",
    "print()\n",
    "print()\n",
    "\n",
    "# pattern 3\n",
    "rows = 5\n",
    "i = 1\n",
    "while i <= rows:\n",
    "    j = i\n",
    "    while j < rows:\n",
    "        \n",
    "        print(' ', end=' ')\n",
    "        j += 1\n",
    "    k = 1\n",
    "    while k <= i:\n",
    "        print('*', end=' ')\n",
    "        k += 1\n",
    "    print()\n",
    "    i += 1\n",
    "    \n",
    "i = rows\n",
    "while i >= 1:\n",
    "    j = i\n",
    "    while j <= rows:\n",
    "        print(' ', end=' ')\n",
    "        j += 1\n",
    "    k = 1\n",
    "    while k < i:\n",
    "        print('*', end=' ')\n",
    "        k += 1\n",
    "    print('')\n",
    "    i -= 1 "
   ]
  },
  {
   "cell_type": "markdown",
   "id": "c2b28b97-9ba4-4736-acde-dfc529f069e6",
   "metadata": {},
   "source": [
    "### Q7 & Q8"
   ]
  },
  {
   "cell_type": "code",
   "execution_count": null,
   "id": "cf47254e-3aed-4870-a383-10d81249aa6e",
   "metadata": {},
   "outputs": [],
   "source": [
    "i = 10\n",
    "while i > 0:\n",
    "    print(i)\n",
    "    i = i - 1"
   ]
  },
  {
   "cell_type": "code",
   "execution_count": null,
   "id": "1dd72045-ff5b-4101-b35a-f6e31a4f2523",
   "metadata": {},
   "outputs": [],
   "source": []
  }
 ],
 "metadata": {
  "kernelspec": {
   "display_name": "Python 3 (ipykernel)",
   "language": "python",
   "name": "python3"
  },
  "language_info": {
   "codemirror_mode": {
    "name": "ipython",
    "version": 3
   },
   "file_extension": ".py",
   "mimetype": "text/x-python",
   "name": "python",
   "nbconvert_exporter": "python",
   "pygments_lexer": "ipython3",
   "version": "3.10.8"
  }
 },
 "nbformat": 4,
 "nbformat_minor": 5
}
